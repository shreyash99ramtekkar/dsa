{
 "cells": [
  {
   "cell_type": "code",
   "execution_count": 14,
   "id": "d0ab68a6",
   "metadata": {},
   "outputs": [
    {
     "ename": "RecursionError",
     "evalue": "maximum recursion depth exceeded",
     "output_type": "error",
     "traceback": [
      "\u001b[0;31m---------------------------------------------------------------------------\u001b[0m",
      "\u001b[0;31mRecursionError\u001b[0m                            Traceback (most recent call last)",
      "Cell \u001b[0;32mIn[14], line 10\u001b[0m\n\u001b[1;32m      8\u001b[0m         stack\u001b[38;5;241m.\u001b[39mappend(code1(num\u001b[38;5;241m-\u001b[39m\u001b[38;5;241m1\u001b[39m)\u001b[38;5;241m+\u001b[39mcode1(num\u001b[38;5;241m-\u001b[39m\u001b[38;5;241m2\u001b[39m))\n\u001b[1;32m      9\u001b[0m         \u001b[38;5;28;01mreturn\u001b[39;00m (code1(num\u001b[38;5;241m-\u001b[39m\u001b[38;5;241m1\u001b[39m)\u001b[38;5;241m+\u001b[39mcode1(num\u001b[38;5;241m-\u001b[39m\u001b[38;5;241m2\u001b[39m))\n\u001b[0;32m---> 10\u001b[0m \u001b[38;5;28mprint\u001b[39m(code1(\u001b[38;5;241m10000\u001b[39m))\n\u001b[1;32m     11\u001b[0m \u001b[38;5;28mprint\u001b[39m(stack)\n",
      "Cell \u001b[0;32mIn[14], line 8\u001b[0m, in \u001b[0;36mcode1\u001b[0;34m(num)\u001b[0m\n\u001b[1;32m      6\u001b[0m     \u001b[38;5;28;01mreturn\u001b[39;00m \u001b[38;5;241m1\u001b[39m\n\u001b[1;32m      7\u001b[0m \u001b[38;5;28;01melse\u001b[39;00m:\n\u001b[0;32m----> 8\u001b[0m     stack\u001b[38;5;241m.\u001b[39mappend(code1(num\u001b[38;5;241m-\u001b[39m\u001b[38;5;241m1\u001b[39m)\u001b[38;5;241m+\u001b[39mcode1(num\u001b[38;5;241m-\u001b[39m\u001b[38;5;241m2\u001b[39m))\n\u001b[1;32m      9\u001b[0m     \u001b[38;5;28;01mreturn\u001b[39;00m (code1(num\u001b[38;5;241m-\u001b[39m\u001b[38;5;241m1\u001b[39m)\u001b[38;5;241m+\u001b[39mcode1(num\u001b[38;5;241m-\u001b[39m\u001b[38;5;241m2\u001b[39m))\n",
      "Cell \u001b[0;32mIn[14], line 8\u001b[0m, in \u001b[0;36mcode1\u001b[0;34m(num)\u001b[0m\n\u001b[1;32m      6\u001b[0m     \u001b[38;5;28;01mreturn\u001b[39;00m \u001b[38;5;241m1\u001b[39m\n\u001b[1;32m      7\u001b[0m \u001b[38;5;28;01melse\u001b[39;00m:\n\u001b[0;32m----> 8\u001b[0m     stack\u001b[38;5;241m.\u001b[39mappend(code1(num\u001b[38;5;241m-\u001b[39m\u001b[38;5;241m1\u001b[39m)\u001b[38;5;241m+\u001b[39mcode1(num\u001b[38;5;241m-\u001b[39m\u001b[38;5;241m2\u001b[39m))\n\u001b[1;32m      9\u001b[0m     \u001b[38;5;28;01mreturn\u001b[39;00m (code1(num\u001b[38;5;241m-\u001b[39m\u001b[38;5;241m1\u001b[39m)\u001b[38;5;241m+\u001b[39mcode1(num\u001b[38;5;241m-\u001b[39m\u001b[38;5;241m2\u001b[39m))\n",
      "    \u001b[0;31m[... skipping similar frames: code1 at line 8 (9972 times)]\u001b[0m\n",
      "Cell \u001b[0;32mIn[14], line 8\u001b[0m, in \u001b[0;36mcode1\u001b[0;34m(num)\u001b[0m\n\u001b[1;32m      6\u001b[0m     \u001b[38;5;28;01mreturn\u001b[39;00m \u001b[38;5;241m1\u001b[39m\n\u001b[1;32m      7\u001b[0m \u001b[38;5;28;01melse\u001b[39;00m:\n\u001b[0;32m----> 8\u001b[0m     stack\u001b[38;5;241m.\u001b[39mappend(code1(num\u001b[38;5;241m-\u001b[39m\u001b[38;5;241m1\u001b[39m)\u001b[38;5;241m+\u001b[39mcode1(num\u001b[38;5;241m-\u001b[39m\u001b[38;5;241m2\u001b[39m))\n\u001b[1;32m      9\u001b[0m     \u001b[38;5;28;01mreturn\u001b[39;00m (code1(num\u001b[38;5;241m-\u001b[39m\u001b[38;5;241m1\u001b[39m)\u001b[38;5;241m+\u001b[39mcode1(num\u001b[38;5;241m-\u001b[39m\u001b[38;5;241m2\u001b[39m))\n",
      "\u001b[0;31mRecursionError\u001b[0m: maximum recursion depth exceeded"
     ]
    }
   ],
   "source": [
    "import sys\n",
    "sys.setrecursionlimit(10001)\n",
    "stack = []\n",
    "def code1(num):\n",
    "    if(num<=2):\n",
    "        return 1\n",
    "    else:\n",
    "        stack.append(code1(num-1)+code1(num-2))\n",
    "        return (code1(num-1)+code1(num-2))\n",
    "print(code1(10000))\n",
    "print(stack)"
   ]
  },
  {
   "cell_type": "code",
   "execution_count": 15,
   "id": "90deea75",
   "metadata": {},
   "outputs": [
    {
     "ename": "RecursionError",
     "evalue": "maximum recursion depth exceeded in comparison",
     "output_type": "error",
     "traceback": [
      "\u001b[0;31m---------------------------------------------------------------------------\u001b[0m",
      "\u001b[0;31mRecursionError\u001b[0m                            Traceback (most recent call last)",
      "Cell \u001b[0;32mIn[15], line 14\u001b[0m\n\u001b[1;32m     12\u001b[0m         \u001b[38;5;28;01mreturn\u001b[39;00m memo[num]\n\u001b[1;32m     13\u001b[0m memo\u001b[38;5;241m=\u001b[39m{}\n\u001b[0;32m---> 14\u001b[0m \u001b[38;5;28mprint\u001b[39m(code2(\u001b[38;5;241m10000\u001b[39m))\n",
      "Cell \u001b[0;32mIn[15], line 10\u001b[0m, in \u001b[0;36mcode2\u001b[0;34m(num)\u001b[0m\n\u001b[1;32m      8\u001b[0m     \u001b[38;5;28;01mreturn\u001b[39;00m memo[num]\n\u001b[1;32m      9\u001b[0m \u001b[38;5;28;01melse\u001b[39;00m:\n\u001b[0;32m---> 10\u001b[0m     val\u001b[38;5;241m=\u001b[39mcode2(num\u001b[38;5;241m-\u001b[39m\u001b[38;5;241m1\u001b[39m)\u001b[38;5;241m+\u001b[39mcode2(num\u001b[38;5;241m-\u001b[39m\u001b[38;5;241m2\u001b[39m)\n\u001b[1;32m     11\u001b[0m     memo\u001b[38;5;241m.\u001b[39mupdate({num:val})\n\u001b[1;32m     12\u001b[0m     \u001b[38;5;28;01mreturn\u001b[39;00m memo[num]\n",
      "Cell \u001b[0;32mIn[15], line 10\u001b[0m, in \u001b[0;36mcode2\u001b[0;34m(num)\u001b[0m\n\u001b[1;32m      8\u001b[0m     \u001b[38;5;28;01mreturn\u001b[39;00m memo[num]\n\u001b[1;32m      9\u001b[0m \u001b[38;5;28;01melse\u001b[39;00m:\n\u001b[0;32m---> 10\u001b[0m     val\u001b[38;5;241m=\u001b[39mcode2(num\u001b[38;5;241m-\u001b[39m\u001b[38;5;241m1\u001b[39m)\u001b[38;5;241m+\u001b[39mcode2(num\u001b[38;5;241m-\u001b[39m\u001b[38;5;241m2\u001b[39m)\n\u001b[1;32m     11\u001b[0m     memo\u001b[38;5;241m.\u001b[39mupdate({num:val})\n\u001b[1;32m     12\u001b[0m     \u001b[38;5;28;01mreturn\u001b[39;00m memo[num]\n",
      "    \u001b[0;31m[... skipping similar frames: code2 at line 10 (9971 times)]\u001b[0m\n",
      "Cell \u001b[0;32mIn[15], line 10\u001b[0m, in \u001b[0;36mcode2\u001b[0;34m(num)\u001b[0m\n\u001b[1;32m      8\u001b[0m     \u001b[38;5;28;01mreturn\u001b[39;00m memo[num]\n\u001b[1;32m      9\u001b[0m \u001b[38;5;28;01melse\u001b[39;00m:\n\u001b[0;32m---> 10\u001b[0m     val\u001b[38;5;241m=\u001b[39mcode2(num\u001b[38;5;241m-\u001b[39m\u001b[38;5;241m1\u001b[39m)\u001b[38;5;241m+\u001b[39mcode2(num\u001b[38;5;241m-\u001b[39m\u001b[38;5;241m2\u001b[39m)\n\u001b[1;32m     11\u001b[0m     memo\u001b[38;5;241m.\u001b[39mupdate({num:val})\n\u001b[1;32m     12\u001b[0m     \u001b[38;5;28;01mreturn\u001b[39;00m memo[num]\n",
      "Cell \u001b[0;32mIn[15], line 7\u001b[0m, in \u001b[0;36mcode2\u001b[0;34m(num)\u001b[0m\n\u001b[1;32m      5\u001b[0m \u001b[38;5;28;01mif\u001b[39;00m(num\u001b[38;5;241m<\u001b[39m\u001b[38;5;241m=\u001b[39m\u001b[38;5;241m2\u001b[39m):\n\u001b[1;32m      6\u001b[0m     \u001b[38;5;28;01mreturn\u001b[39;00m \u001b[38;5;241m1\u001b[39m\n\u001b[0;32m----> 7\u001b[0m \u001b[38;5;28;01mif\u001b[39;00m(memo\u001b[38;5;241m.\u001b[39mget(num)\u001b[38;5;241m!=\u001b[39m\u001b[38;5;28;01mNone\u001b[39;00m):\n\u001b[1;32m      8\u001b[0m     \u001b[38;5;28;01mreturn\u001b[39;00m memo[num]\n\u001b[1;32m      9\u001b[0m \u001b[38;5;28;01melse\u001b[39;00m:\n",
      "\u001b[0;31mRecursionError\u001b[0m: maximum recursion depth exceeded in comparison"
     ]
    }
   ],
   "source": [
    "import sys\n",
    "sys.setrecursionlimit(10001)\n",
    "def code2(num):\n",
    "    global memo\n",
    "    if(num<=2):\n",
    "        return 1\n",
    "    if(memo.get(num)!=None):\n",
    "        return memo[num]\n",
    "    else:\n",
    "        val=code2(num-1)+code2(num-2)\n",
    "        memo.update({num:val})\n",
    "        return memo[num]\n",
    "memo={}\n",
    "print(code2(10000))"
   ]
  },
  {
   "cell_type": "code",
   "execution_count": 16,
   "id": "5556d55c",
   "metadata": {},
   "outputs": [
    {
     "name": "stdout",
     "output_type": "stream",
     "text": [
      "33644764876431783266621612005107543310302148460680063906564769974680081442166662368155595513633734025582065332680836159373734790483865268263040892463056431887354544369559827491606602099884183933864652731300088830269235673613135117579297437854413752130520504347701602264758318906527890855154366159582987279682987510631200575428783453215515103870818298969791613127856265033195487140214287532698187962046936097879900350962302291026368131493195275630227837628441540360584402572114334961180023091208287046088923962328835461505776583271252546093591128203925285393434620904245248929403901706233888991085841065183173360437470737908552631764325733993712871937587746897479926305837065742830161637408969178426378624212835258112820516370298089332099905707920064367426202389783111470054074998459250360633560933883831923386783056136435351892133279732908133732642652633989763922723407882928177953580570993691049175470808931841056146322338217465637321248226383092103297701648054726243842374862411453093812206564914032751086643394517512161526545361333111314042436854805106765843493523836959653428071768775328348234345557366719731392746273629108210679280784718035329131176778924659089938635459327894523777674406192240337638674004021330343297496902028328145933418826817683893072003634795623117103101291953169794607632737589253530772552375943788434504067715555779056450443016640119462580972216729758615026968443146952034614932291105970676243268515992834709891284706740862008587135016260312071903172086094081298321581077282076353186624611278245537208532365305775956430072517744315051539600905168603220349163222640885248852433158051534849622434848299380905070483482449327453732624567755879089187190803662058009594743150052402532709746995318770724376825907419939632265984147498193609285223945039707165443156421328157688908058783183404917434556270520223564846495196112460268313970975069382648706613264507665074611512677522748621598642530711298441182622661057163515069260029861704945425047491378115154139941550671256271197133252763631939606902895650288268608362241082050562430701794976171121233066073310059947366875\n"
     ]
    }
   ],
   "source": [
    "import sys\n",
    "sys.setrecursionlimit(10000)\n",
    "def code3(num):\n",
    "    global memo\n",
    "    if(num<=2):\n",
    "        return 1\n",
    "    if(memo.get(num)!=None):\n",
    "            return memo[num]\n",
    "    for n in range(2,num+1):\n",
    "        val=code3(n-1)+code3(n-2)\n",
    "        memo.update({n:val})\n",
    "    return memo[num]\n",
    "memo={}\n",
    "print(code3(10000))"
   ]
  },
  {
   "cell_type": "markdown",
   "id": "2fa0af84",
   "metadata": {},
   "source": [
    "**Problem Statement**\n",
    "Use the linear search algorithm to implement the logic for the number guessing game that you had played. The program should display the total number of guesses made each time you play.\n",
    "\n",
    " \n",
    "\n",
    "Hint: use random.randrange() to identify a random number from the list to be guessed."
   ]
  },
  {
   "cell_type": "code",
   "execution_count": 71,
   "id": "d5769b95",
   "metadata": {},
   "outputs": [
    {
     "name": "stdout",
     "output_type": "stream",
     "text": [
      "171\n",
      "Success\n",
      "171\n"
     ]
    }
   ],
   "source": [
    "#DSA-Tryout\n",
    "\n",
    "import random\n",
    "\n",
    "def find_it(num,element_list):\n",
    "    #Remove pass and write the logic to search num in element_list using linear search algorithm\n",
    "    #Return the total number of guesses made\n",
    "    guesses = 1\n",
    "    for element in element_list:\n",
    "        if num == element:\n",
    "            print(\"Success\")\n",
    "            break;\n",
    "        else:\n",
    "            guesses += 1\n",
    "    return guesses\n",
    "            \n",
    "\n",
    "#Initializes a list with values 1 to n in random order and returns it\n",
    "def initialize_list_of_elements(n):\n",
    "    list_of_elements=[]\n",
    "    for i in range(1,n+1):\n",
    "        list_of_elements.append(i)\n",
    "    mid=n//2\n",
    "    for j in range(0,n):\n",
    "        index1=random.randrange(0,mid)\n",
    "        index2=random.randrange(mid,n)\n",
    "        num1=list_of_elements[index1]\n",
    "        list_of_elements[index1]=list_of_elements[index2]\n",
    "        list_of_elements[index2]=num1\n",
    "    return list_of_elements\n",
    "\n",
    "def play(n):\n",
    "    # Step 1: Invoke initialize_list_of_elements() by passing n\n",
    "    # Step 2: Generate a random number from the list of elements. The number should be between 1 and n (both inclusive)\n",
    "    # Step 3: Invoke find_it() by passing the number generated at Step 2 and list generated at Step 1 and display the return value\n",
    "    # Remove pass and write the code to implement the above three steps.\n",
    "    elements = initialize_list_of_elements(n)\n",
    "    element = elements[random.randrange(0,n)]\n",
    "    print(element)\n",
    "    print(find_it(element,elements))\n",
    "\n",
    "#Pass different values to play() and observe the output\n",
    "play(400)"
   ]
  },
  {
   "cell_type": "markdown",
   "id": "c65c92c9",
   "metadata": {},
   "source": [
    "**Problem Statement**\n",
    "Does this algorithm work if the elements are in sorted order?\n",
    "\n",
    " \n",
    "\n",
    "Find it out by applying linear search algorithm on a list of elements arranged in\n",
    "\n",
    "Ascending order\n",
    "\n",
    "Descending order"
   ]
  },
  {
   "cell_type": "code",
   "execution_count": 72,
   "id": "265a4bea",
   "metadata": {},
   "outputs": [
    {
     "name": "stdout",
     "output_type": "stream",
     "text": [
      "395\n",
      "Success\n",
      "6\n"
     ]
    }
   ],
   "source": [
    "#DSA-Tryout\n",
    "\n",
    "import random\n",
    "\n",
    "def find_it(num,element_list):\n",
    "    #Remove pass and write the logic to search num in element_list using linear search algorithm\n",
    "    #Return the total number of guesses made\n",
    "    guesses = 1\n",
    "    for element in element_list:\n",
    "        if num == element:\n",
    "            print(\"Success\")\n",
    "            break;\n",
    "        else:\n",
    "            guesses += 1\n",
    "    return guesses\n",
    "\n",
    "def initialize_list_of_elements(n):\n",
    "    #Modify the code to initialize the list of elements in ascending order\n",
    "    #Try with descending order also\n",
    "    list_of_elements=[]\n",
    "    for i in range(1,n+1):\n",
    "        list_of_elements.append(i)\n",
    "    mid=n//2\n",
    "    for j in range(0,n):\n",
    "        index1=random.randrange(0,mid)\n",
    "        index2=random.randrange(mid,n)\n",
    "        num1=list_of_elements[index1]\n",
    "        list_of_elements[index1]=list_of_elements[index2]\n",
    "        list_of_elements[index2]=num1\n",
    "    return sorted(list_of_elements,reverse=True)\n",
    "\n",
    "def play(n):\n",
    "    #Remove pass and copy the solution earlier written for this function here\n",
    "    elements = initialize_list_of_elements(n)\n",
    "    element = elements[random.randrange(0,n)]\n",
    "    print(element)\n",
    "    print(find_it(element,elements))\n",
    "\n",
    "#Pass different values to play() and observe the output\n",
    "play(400)"
   ]
  },
  {
   "cell_type": "code",
   "execution_count": null,
   "id": "b5ec562e",
   "metadata": {},
   "outputs": [],
   "source": []
  },
  {
   "cell_type": "code",
   "execution_count": null,
   "id": "f731f163",
   "metadata": {},
   "outputs": [],
   "source": []
  },
  {
   "cell_type": "markdown",
   "id": "0879b565",
   "metadata": {},
   "source": [
    "## Binary Search - Number Guessing -Try out"
   ]
  },
  {
   "cell_type": "markdown",
   "id": "2682bad2",
   "metadata": {},
   "source": [
    "**Problem Statement**\n",
    "Use the binary search algorithm to implement the logic for the number guessing game that you had played. The program should display the number of guesses made each time you play.\n",
    "\n",
    " \n",
    "\n",
    "Assume that the list has elements sorted in ascending order.\n",
    "\n",
    " \n",
    "\n",
    "Hint: use random.randrange() to identify a random number from the list to be guessed.\n",
    "\n",
    "Note: Reuse the earlier written code for number guessing game wherever required"
   ]
  },
  {
   "cell_type": "code",
   "execution_count": 80,
   "id": "34559b42",
   "metadata": {},
   "outputs": [
    {
     "name": "stdout",
     "output_type": "stream",
     "text": [
      "257\n",
      "element found\n",
      "8\n"
     ]
    }
   ],
   "source": [
    "#DSA-Tryout\n",
    "import random\n",
    "\n",
    "def find_it(num,element_list):\n",
    "    #Remove pass and write the logic to search num in element_list using binary search algorithm\n",
    "    #Return the total number of guesses made\n",
    "    print(num)\n",
    "    low=0\n",
    "    high=len(element_list)-1\n",
    "    guess=1\n",
    "    while(True):\n",
    "        mid = (low+high)//2\n",
    "        if element_list[mid] != num:\n",
    "            if num < element_list[mid]:\n",
    "                high = mid - 1\n",
    "            else:\n",
    "                low = mid + 1\n",
    "            guess += 1\n",
    "        else:\n",
    "            print(\"element found\")\n",
    "            break;\n",
    "    return guess\n",
    "            \n",
    "    \n",
    "\n",
    "#Initializes a list with values 1 to n in ascending order and returns it\n",
    "def initialize_list_of_elements(n):\n",
    "    list_of_elements=[]\n",
    "    for i in range(1, n+1):\n",
    "        list_of_elements.append(i)\n",
    "    return list_of_elements\n",
    "\n",
    "def play(n):\n",
    "    # Step 1: Invoke initialize_list_of_elements() by passing n\n",
    "    # Step 2: Generate a random number from the list of elements. The number should be between 1 and n (both inclusive)\n",
    "    # Step 3: Invoke find_it() by passing the number generated at Step 2 and list generated at Step 1 and display the return value\n",
    "    # Remove pass and write the code to implement the above three steps.\n",
    "    elements = initialize_list_of_elements(n)\n",
    "    index_random =random.randrange(0,n)\n",
    "    return find_it(elements[index_random],elements)\n",
    "\n",
    "\n",
    "#Pass different values to play() and observe the output\n",
    "print(play(400))"
   ]
  },
  {
   "cell_type": "markdown",
   "id": "35b47f43",
   "metadata": {},
   "source": [
    "## Linear vs Binary Search - Try out"
   ]
  },
  {
   "cell_type": "markdown",
   "id": "f1b0dcf4",
   "metadata": {},
   "source": [
    "**Problem Statement**\n",
    "Combine the two number guessing programs written earlier, one using linear search and the other using binary search. Along with the number of guesses, find and display the execution time for each of these algorithms.\n",
    "\n",
    " \n",
    "\n",
    "Use the template code given to compute the execution time.\n",
    "\n",
    " \n",
    "\n",
    "Play the game multiple times using values of n such as 100, 1000, 10000, 100000, 1000000 etc. and observe the difference w.r.t number of guesses and execution time between both the algorithms."
   ]
  },
  {
   "cell_type": "code",
   "execution_count": 84,
   "id": "734ed706",
   "metadata": {},
   "outputs": [
    {
     "name": "stdout",
     "output_type": "stream",
     "text": [
      "Number to be guessed: 20646266\n",
      "Success\n",
      "No. of guesses made using linear search: 20646266\n",
      "Linear Search:Execution time in seconds:0.27276\n",
      "element found\n",
      "No. of guesses made using binary search: 24\n",
      "Binary Search:Execution time in seconds:0.00002\n"
     ]
    }
   ],
   "source": [
    "#DSA-Tryout\n",
    "\n",
    "import random\n",
    "from timeit import default_timer as timer\n",
    "\n",
    "def find_it_linear(num,element_list):\n",
    "    guesses = 1\n",
    "    for element in element_list:\n",
    "        if num == element:\n",
    "            print(\"Success\")\n",
    "            break;\n",
    "        else:\n",
    "            guesses += 1\n",
    "    return guesses\n",
    "\n",
    "def find_it_binary(num,element_list):\n",
    "    low=0\n",
    "    high=len(element_list)-1\n",
    "    guess=1\n",
    "    while(True):\n",
    "        mid = (low+high)//2\n",
    "        if element_list[mid] != num:\n",
    "            if num < element_list[mid]:\n",
    "                high = mid - 1\n",
    "            else:\n",
    "                low = mid + 1\n",
    "            guess += 1\n",
    "        else:\n",
    "            print(\"element found\")\n",
    "            break;\n",
    "    return guess\n",
    "\n",
    "#Initializes a list with values 1 to n in ascending order and returns it\n",
    "def initialize_list_of_elements(n):\n",
    "    list_of_elements=[]\n",
    "    for i in range(1,n+1):\n",
    "        list_of_elements.append(i)\n",
    "    return list_of_elements\n",
    "\n",
    "def play(n):\n",
    "    list_of_elements=initialize_list_of_elements(n)\n",
    "    rand_index=random.randrange(0,len(list_of_elements))\n",
    "    rand_num=list_of_elements[rand_index]\n",
    "    print(\"Number to be guessed:\",rand_num)\n",
    "    start=timer()\n",
    "    print(\"No. of guesses made using linear search:\",find_it_linear(rand_num,list_of_elements))\n",
    "    end=timer()\n",
    "    print(\"Linear Search:Execution time in seconds:{0:.5f}\".format( (end-start)))\n",
    "    start=timer()\n",
    "    print(\"No. of guesses made using binary search:\",find_it_binary(rand_num,list_of_elements))\n",
    "    end=timer()\n",
    "    print(\"Binary Search:Execution time in seconds:{0:.5f}\".format( (end-start)))\n",
    "\n",
    "#Pass different values to play() and observe the output\n",
    "play(100000000)"
   ]
  },
  {
   "cell_type": "code",
   "execution_count": null,
   "id": "23f0aa8a",
   "metadata": {},
   "outputs": [],
   "source": []
  }
 ],
 "metadata": {
  "kernelspec": {
   "display_name": "Python 3 (ipykernel)",
   "language": "python",
   "name": "python3"
  },
  "language_info": {
   "codemirror_mode": {
    "name": "ipython",
    "version": 3
   },
   "file_extension": ".py",
   "mimetype": "text/x-python",
   "name": "python",
   "nbconvert_exporter": "python",
   "pygments_lexer": "ipython3",
   "version": "3.11.5"
  }
 },
 "nbformat": 4,
 "nbformat_minor": 5
}
