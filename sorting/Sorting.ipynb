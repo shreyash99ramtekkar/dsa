{
 "cells": [
  {
   "cell_type": "markdown",
   "id": "53d7fed0",
   "metadata": {},
   "source": [
    "## Exercise on Basic Sorting Operations - Level 1"
   ]
  },
  {
   "cell_type": "markdown",
   "id": "811387d9",
   "metadata": {},
   "source": [
    "**Problem Statement**\n",
    "Now we know that comparison and swapping are two basic operations required for sorting, let’s write a function to swap two numbers in a list.\n",
    "\n",
    " \n",
    "\n",
    "Complete the given function by following the instructions provided in template code. Test your code by passing different values for num_list, first_index and second_index."
   ]
  },
  {
   "cell_type": "code",
   "execution_count": 3,
   "id": "adcba72a",
   "metadata": {},
   "outputs": [
    {
     "name": "stdout",
     "output_type": "stream",
     "text": [
      "List before swapping: [2, 3, 89, 45, 67]\n",
      "List after swapping: [2, 89, 3, 45, 67]\n"
     ]
    }
   ],
   "source": [
    "#lex_auth_0127667345256611843470\n",
    "\n",
    "def swap(num_list, first_index, second_index):\n",
    "    #Remove pass and write your logic here\n",
    "    #As python lists are mutable, num_list need not be returned after swapping\n",
    "    num_list[first_index] = num_list[first_index] + num_list[second_index]\n",
    "    num_list[second_index] = num_list[first_index] - num_list[second_index]\n",
    "    num_list[first_index] = num_list[first_index] - num_list[second_index]\n",
    "\n",
    "#Pass different values to the function and test your program\n",
    "num_list=[2,3,89,45,67]\n",
    "print(\"List before swapping:\",num_list)\n",
    "swap(num_list, 1, 2)\n",
    "print(\"List after swapping:\",num_list)"
   ]
  },
  {
   "cell_type": "markdown",
   "id": "a826e3e9",
   "metadata": {},
   "source": [
    "\n",
    "### Exercise on Selection Sort - Level 1"
   ]
  },
  {
   "cell_type": "markdown",
   "id": "241363f5",
   "metadata": {},
   "source": [
    "**Problem Statement**\n",
    "Write a function to find and return the index of the minimum element in a sub-list. Follow the instructions provided in template code.\n",
    "\n",
    " \n",
    "\n",
    "Test your code by passing different values for num_list and start_index.\n",
    "\n",
    " \n",
    "\n",
    "You can reuse this function to find the next minimum element in the list during each pass while implementing the selection sort algorithm."
   ]
  },
  {
   "cell_type": "code",
   "execution_count": 6,
   "id": "49e7e82c",
   "metadata": {},
   "outputs": [
    {
     "name": "stdout",
     "output_type": "stream",
     "text": [
      "Index of the next minimum element is 1\n"
     ]
    }
   ],
   "source": [
    "#lex_auth_0127667370895278083332\n",
    "\n",
    "def find_next_min(num_list,start_index):\n",
    "    #Remove pass and write the logic to find the minimum element in a sub-list and return the index of the identified element in the num_list.\n",
    "    #start_index indicates the start index of the sub-list\n",
    "    minimum = num_list[start_index]\n",
    "    index = start_index\n",
    "    for i in range(start_index+1,len(num_list)):\n",
    "        if num_list[i] < minimum:\n",
    "            minimum = num_list[i]\n",
    "            index = i\n",
    "    return index\n",
    "        \n",
    "\n",
    "#Pass different values to the function and test your program\n",
    "num_list=[10,2,100,67]\n",
    "start_index=1\n",
    "print(\"Index of the next minimum element is\", find_next_min(num_list,start_index))"
   ]
  },
  {
   "cell_type": "markdown",
   "id": "45402845",
   "metadata": {},
   "source": [
    "### Exercise on Selection Sort (Contd.) - Level 1"
   ]
  },
  {
   "cell_type": "markdown",
   "id": "aeda130b",
   "metadata": {},
   "source": [
    "**Problem Statement**\n",
    "Using the swap() and find_next_min() functions, implement the selection sort algorithm to sort a list of numbers in ascending order."
   ]
  },
  {
   "cell_type": "code",
   "execution_count": 9,
   "id": "d90bd8c1",
   "metadata": {},
   "outputs": [
    {
     "name": "stdout",
     "output_type": "stream",
     "text": [
      "Before sorting; [8, 2, 19, 34, 23, 67, 91]\n",
      "After sorting: [2, 8, 19, 23, 34, 67, 91]\n"
     ]
    }
   ],
   "source": [
    "#lex_auth_0127667356693872643343\n",
    "\n",
    "def swap(num_list, first_index, second_index):\n",
    "    #Remove pass and copy the code written earlier for this function\n",
    "    num_list[first_index] = num_list[first_index] + num_list[second_index]\n",
    "    num_list[second_index] = num_list[first_index] - num_list[second_index]\n",
    "    num_list[first_index] = num_list[first_index] - num_list[second_index]\n",
    "\n",
    "\n",
    "def find_next_min(num_list,start_index):\n",
    "    #Remove pass and write the logic to find the minimum element in a sub-list and return the index of the identified element in the num_list.\n",
    "    #start_index indicates the start index of the sub-list\n",
    "    minimum = num_list[start_index]\n",
    "    index = start_index\n",
    "    for i in range(start_index+1,len(num_list)):\n",
    "        if num_list[i] < minimum:\n",
    "            minimum = num_list[i]\n",
    "            index = i\n",
    "    return index\n",
    "\n",
    "def selection_sort(num_list):\n",
    "    #Remove pass and implement the selection sort algorithm to sort the elements of num_list in ascending order\n",
    "    for i in range(0,len(num_list)-2):\n",
    "        min_index = find_next_min(num_list,i+1)\n",
    "        if num_list[i] > num_list[min_index]:\n",
    "            swap(num_list,i,min_index)\n",
    "\n",
    "\n",
    "#Pass different values to the function and test your program\n",
    "num_list=[8,2,19,34,23, 67, 91]\n",
    "print(\"Before sorting;\",num_list)\n",
    "selection_sort(num_list)\n",
    "print(\"After sorting:\",num_list)"
   ]
  },
  {
   "cell_type": "code",
   "execution_count": null,
   "id": "d0c0dee0",
   "metadata": {},
   "outputs": [],
   "source": []
  },
  {
   "cell_type": "code",
   "execution_count": null,
   "id": "889c5961",
   "metadata": {},
   "outputs": [],
   "source": []
  },
  {
   "cell_type": "markdown",
   "id": "1a9161f9",
   "metadata": {},
   "source": [
    "## Bubble Sort - Try out"
   ]
  },
  {
   "cell_type": "markdown",
   "id": "a6a71872",
   "metadata": {},
   "source": [
    "Try out the given code which implements bubble sort algorithm. Observe\n",
    "\n",
    "number of swaps and\n",
    "\n",
    "number of passes required to sort the input list."
   ]
  },
  {
   "cell_type": "code",
   "execution_count": 11,
   "id": "c7ed14ba",
   "metadata": {},
   "outputs": [
    {
     "name": "stdout",
     "output_type": "stream",
     "text": [
      "In the beginning: [5, 4, 3, 2, 1]\n",
      "______________________________________________\n",
      "At the end of pass- 1 : and subprocess 0 numlist [4, 5, 3, 2, 1]\n",
      "At the end of pass- 1 : and subprocess 1 numlist [4, 3, 5, 2, 1]\n",
      "At the end of pass- 1 : and subprocess 2 numlist [4, 3, 2, 5, 1]\n",
      "At the end of pass- 1 : and subprocess 3 numlist [4, 3, 2, 1, 5]\n",
      "At the end of pass- 1 : [4, 3, 2, 1, 5]\n",
      "At the end of pass- 2 : and subprocess 0 numlist [3, 4, 2, 1, 5]\n",
      "At the end of pass- 2 : and subprocess 1 numlist [3, 2, 4, 1, 5]\n",
      "At the end of pass- 2 : and subprocess 2 numlist [3, 2, 1, 4, 5]\n",
      "At the end of pass- 2 : [3, 2, 1, 4, 5]\n",
      "At the end of pass- 3 : and subprocess 0 numlist [2, 3, 1, 4, 5]\n",
      "At the end of pass- 3 : and subprocess 1 numlist [2, 1, 3, 4, 5]\n",
      "At the end of pass- 3 : [2, 1, 3, 4, 5]\n",
      "At the end of pass- 4 : and subprocess 0 numlist [1, 2, 3, 4, 5]\n",
      "At the end of pass- 4 : [1, 2, 3, 4, 5]\n",
      "______________________________________________\n",
      "At the end: [1, 2, 3, 4, 5]\n",
      "______________________________________________\n",
      "No. of swaps: 10\n",
      "No. of passes: 4\n"
     ]
    }
   ],
   "source": [
    "def swap(num_list, first_index, second_index):\n",
    "    global no_of_swaps\n",
    "    temp=num_list[first_index]\n",
    "    num_list[first_index]=num_list[second_index]\n",
    "    num_list[second_index]=temp\n",
    "    no_of_swaps+=1\n",
    "\n",
    "def bubble_sort(num_list):\n",
    "    global no_of_passes\n",
    "    end_index=len(num_list)\n",
    "    for index1 in range(0, end_index-1):\n",
    "        swapped=False\n",
    "        no_of_passes+=1\n",
    "        for index2 in range(0, (end_index-index1-1)):\n",
    "            if(num_list[index2]>num_list[index2+1]):\n",
    "                swap(num_list, index2, index2+1)\n",
    "                swapped=True\n",
    "            print(\"At the end of pass-\",no_of_passes,\": and subprocess\",index2,\"numlist\",num_list)\n",
    "        if(swapped==False):\n",
    "            break\n",
    "        print(\"At the end of pass-\",no_of_passes,\":\",num_list)\n",
    "\n",
    "no_of_swaps=0\n",
    "no_of_passes=0\n",
    "num_list=[5,4,3,2,1]\n",
    "print(\"In the beginning:\",num_list)\n",
    "print(\"______________________________________________\")\n",
    "bubble_sort(num_list)\n",
    "print(\"______________________________________________\")\n",
    "print(\"At the end:\",num_list)\n",
    "print(\"______________________________________________\")\n",
    "print(\"No. of swaps:\", no_of_swaps)\n",
    "print(\"No. of passes:\",no_of_passes)\n",
    "\n"
   ]
  },
  {
   "cell_type": "markdown",
   "id": "afec11b9",
   "metadata": {},
   "source": [
    "##  Comparion between bubble sort and selection sort"
   ]
  },
  {
   "cell_type": "markdown",
   "id": "b22f1d1b",
   "metadata": {},
   "source": [
    "**Problem Statement**\n",
    "Let’s compare selection sort and bubble sort algorithms in this exercise.\n",
    "\n",
    " \n",
    "\n",
    "Combine the selection sort and bubble sort programs as per the template code provided below and display the number of passes for each of them.\n",
    "\n",
    " \n",
    "\n",
    "Invoke both the functions (selection_sort() and bubble_sort()) using the following two lists and observe the results.\n",
    "\n",
    " \n",
    "\n",
    "Case 1: [8,2,19,34,23, 67, 91]\n",
    "\n",
    " \n",
    "\n",
    "Case 2: [91,8,19,23,34,67,2]"
   ]
  },
  {
   "cell_type": "code",
   "execution_count": 21,
   "id": "c3a8325c",
   "metadata": {},
   "outputs": [
    {
     "name": "stdout",
     "output_type": "stream",
     "text": [
      "Selection Sort - No. of passes: 5\n",
      "Bubble Sort - No. of passes: 2\n"
     ]
    }
   ],
   "source": [
    "#lex_auth_0127667385791856643328\n",
    "def swap(num_list, first_index, second_index):\n",
    "    #Remove pass and copy the code earlier written for this function\n",
    "    num_list[first_index] = num_list[first_index] + num_list[second_index]\n",
    "    num_list[second_index] = num_list[first_index] - num_list[second_index]\n",
    "    num_list[first_index] = num_list[first_index] - num_list[second_index]\n",
    "\n",
    "def find_next_min(num_list,start_index):\n",
    "    minimum = num_list[start_index]\n",
    "    index = start_index\n",
    "    for i in range(start_index+1,len(num_list)):\n",
    "        if num_list[i] < minimum:\n",
    "            minimum = num_list[i]\n",
    "            index = i\n",
    "    return index\n",
    "\n",
    "def selection_sort(num_list):\n",
    "    #Remove pass and copy the code earlier written for this function\n",
    "    #Modify it to return the total number of passes the algorithm has gone through to sort the list\n",
    "    total_no_of_passes=0\n",
    "    for i in range(0,len(num_list)-2):\n",
    "        min_index = find_next_min(num_list,i+1)\n",
    "        total_no_of_passes += 1\n",
    "        if num_list[i] > num_list[min_index]:\n",
    "            swap(num_list,i,min_index)\n",
    "        \n",
    "    return total_no_of_passes\n",
    "\n",
    "def bubble_sort(num_list):\n",
    "    total_no_of_passes=0\n",
    "    end_index=len(num_list)\n",
    "    for index1 in range(0, end_index-1):\n",
    "        swapped=False\n",
    "        total_no_of_passes+=1\n",
    "        for index2 in range(0, (end_index-index1-1)):\n",
    "            if(num_list[index2]>num_list[index2+1]):\n",
    "                swap(num_list, index2, index2+1)\n",
    "                swapped=True;\n",
    "        if(swapped==False):\n",
    "            break\n",
    "    return total_no_of_passes\n",
    "\n",
    "num_list=[8,2,19,34,23, 67, 91]\n",
    "#num_list=[91,8,19,23,34,67,2]\n",
    "print(\"Selection Sort - No. of passes:\",selection_sort(num_list))\n",
    "\n",
    "num_list=[8,2,19,34,23, 67, 91]\n",
    "#num_list=[91,8,19,23,34,67,2]\n",
    "print(\"Bubble Sort - No. of passes:\",bubble_sort(num_list))\n"
   ]
  },
  {
   "cell_type": "code",
   "execution_count": null,
   "id": "c5378e3c",
   "metadata": {},
   "outputs": [],
   "source": []
  },
  {
   "cell_type": "markdown",
   "id": "0158e356",
   "metadata": {},
   "source": [
    "## Exercise on Merge Sort - Level 2"
   ]
  },
  {
   "cell_type": "code",
   "execution_count": null,
   "id": "6debe22a",
   "metadata": {},
   "outputs": [],
   "source": []
  },
  {
   "cell_type": "code",
   "execution_count": 5,
   "id": "0cc7a80e",
   "metadata": {},
   "outputs": [
    {
     "name": "stdout",
     "output_type": "stream",
     "text": [
      "Before sorting: [34, 67, 8, 19, 2, 23, 1, 91]\n",
      "[34, 67, 8, 19] \t [2, 23, 1, 91]\n",
      "[34, 67] \t [8, 19]\n",
      "[34] \t [67]\n",
      "[34, 67]\n",
      "[8] \t [19]\n",
      "[8, 19]\n",
      "[8, 19, 34, 67]\n",
      "[2, 23] \t [1, 91]\n",
      "[2] \t [23]\n",
      "[2, 23]\n",
      "[1] \t [91]\n",
      "[1, 91]\n",
      "[1, 2, 23, 91]\n",
      "[1, 2, 8, 19, 23, 34, 67, 91]\n",
      "After sorting: [1, 2, 8, 19, 23, 34, 67, 91]\n"
     ]
    }
   ],
   "source": [
    "#lex_auth_0127667368801157123532\n",
    "\n",
    "def merge_sort(num_list):\n",
    "    low = 1\n",
    "    high = len(num_list)\n",
    "    mid = (high) // 2\n",
    "    if (low == high):\n",
    "        return num_list\n",
    "    else:\n",
    "        print(num_list[:mid],\"\\t\",num_list[mid:])\n",
    "        left_list = merge_sort(num_list[:mid])\n",
    "        right_list = merge_sort(num_list[mid:])\n",
    "        ordered_list = merge(left_list,right_list)\n",
    "    return ordered_list\n",
    "\n",
    "def merge(left_list,right_list):\n",
    "    # Remove pass and write the logic to merge the elements in the left_list and right_list and return the sorted list\n",
    "    i = 0\n",
    "    j = 0\n",
    "    sorted_list = []\n",
    "    while i < len(left_list) and j < len(right_list):\n",
    "        if left_list[i] > right_list[j]:\n",
    "            sorted_list.append(right_list[j])\n",
    "            j+=1\n",
    "        else:\n",
    "            sorted_list.append(left_list[i])\n",
    "            i+=1\n",
    "    for k in range(i,len(left_list)):\n",
    "        sorted_list.append(left_list[k])\n",
    "    for m in range(j,len(right_list)):\n",
    "        sorted_list.append(right_list[m])\n",
    "    print(sorted_list)\n",
    "    return sorted_list\n",
    "\n",
    "num_list=[34, 67, 8, 19, 2, 23, 1, 91]\n",
    "print(\"Before sorting:\",num_list)\n",
    "sorted_list = merge_sort(num_list)\n",
    "print(\"After sorting:\",sorted_list)\n"
   ]
  },
  {
   "cell_type": "markdown",
   "id": "1d411166",
   "metadata": {},
   "source": [
    "## Quick Sort - Try out"
   ]
  },
  {
   "cell_type": "code",
   "execution_count": 6,
   "id": "cb939428",
   "metadata": {},
   "outputs": [
    {
     "name": "stdout",
     "output_type": "stream",
     "text": [
      "Before sorting; [3, 1, 0, 4, 2]\n",
      "After sorting: [0, 1, 2, 3, 4]\n"
     ]
    }
   ],
   "source": [
    "def swap(num_list, first_index, second_index):\n",
    "    temp=num_list[first_index]\n",
    "    num_list[first_index]=num_list[second_index]\n",
    "    num_list[second_index]=temp\n",
    "    \n",
    "\n",
    "def quick_sort(num_list,low,high):\n",
    "    if(low>=high):\n",
    "        return\n",
    "    split_point=partition(num_list,low,high)\n",
    "    quick_sort(num_list,low,split_point-1)\n",
    "    quick_sort(num_list,split_point+1,high)\n",
    "    \n",
    "def partition(num_list,low,high):\n",
    "    pivot=num_list[low]\n",
    "    i=low+1\n",
    "    j=high\n",
    "    done=False\n",
    "    while not done:\n",
    "            while (i<=j and num_list[i]<=pivot):\n",
    "                i=i+1\n",
    "            while( num_list[j]>=pivot and j>=i):\n",
    "                j=j-1\n",
    "            if(j < i):\n",
    "                done=True\n",
    "            else:\n",
    "                swap(num_list,i,j)\n",
    "    swap(num_list,low,j)  \n",
    "    return j\n",
    "\n",
    "num_list=[3,1,0,4,2]\n",
    "print(\"Before sorting;\",num_list)\n",
    "l=len(num_list)\n",
    "quick_sort(num_list,0,l-1)\n",
    "print(\"After sorting:\",num_list)"
   ]
  },
  {
   "cell_type": "code",
   "execution_count": null,
   "id": "730d7687",
   "metadata": {},
   "outputs": [],
   "source": []
  }
 ],
 "metadata": {
  "kernelspec": {
   "display_name": "Python 3 (ipykernel)",
   "language": "python",
   "name": "python3"
  },
  "language_info": {
   "codemirror_mode": {
    "name": "ipython",
    "version": 3
   },
   "file_extension": ".py",
   "mimetype": "text/x-python",
   "name": "python",
   "nbconvert_exporter": "python",
   "pygments_lexer": "ipython3",
   "version": "3.11.5"
  }
 },
 "nbformat": 4,
 "nbformat_minor": 5
}
