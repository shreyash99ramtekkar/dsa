{
 "cells": [
  {
   "cell_type": "code",
   "execution_count": 12,
   "id": "b24c96d1",
   "metadata": {},
   "outputs": [],
   "source": [
    "class Node:\n",
    "    def __init__(self,data):\n",
    "        self.__left = None\n",
    "        self.__right = None\n",
    "        self.__data = data\n",
    "    \n",
    "    def get_data(self):\n",
    "        return self.__data\n",
    "    \n",
    "    def set_data(self,data):\n",
    "        self.__data = data\n",
    "        \n",
    "    def get_right_child(self):\n",
    "        return self.__right\n",
    "    \n",
    "    def set_right_child(self,right):\n",
    "        self.__right = right\n",
    "            \n",
    "    def get_left_child(self):\n",
    "        return self.__left\n",
    "    \n",
    "    def set_left_child(self,left):\n",
    "        self.__left = left\n",
    "        \n",
    "    def print_tree(self):\n",
    "        if self.__left:\n",
    "            self.__left.print_tree()\n",
    "            \n",
    "        print(self.__data)\n",
    "        \n",
    "        if self.__right:\n",
    "            self.__right.print_tree()"
   ]
  },
  {
   "cell_type": "code",
   "execution_count": 13,
   "id": "648407cf",
   "metadata": {},
   "outputs": [],
   "source": [
    "def insert(head,node):\n",
    "    if head == None:\n",
    "        return node\n",
    "    if head.get_data() >= node.get_data():\n",
    "        head.set_left_child(insert(head.get_left_child(),node))\n",
    "    else:\n",
    "        head.set_right_child(insert(head.get_right_child(),node))\n",
    "    return head"
   ]
  },
  {
   "cell_type": "code",
   "execution_count": 14,
   "id": "8a2375a5",
   "metadata": {},
   "outputs": [],
   "source": [
    "A = Node(45)\n",
    "B = Node(2)\n",
    "C = Node(33)\n",
    "D = Node(54)\n",
    "E = Node(25)\n",
    "F = Node(68)\n",
    "G = Node(72)\n",
    "H = Node(81)\n",
    "I = Node(23)\n"
   ]
  },
  {
   "cell_type": "code",
   "execution_count": 15,
   "id": "c6658be4",
   "metadata": {},
   "outputs": [],
   "source": [
    "head = insert(None,E)"
   ]
  },
  {
   "cell_type": "code",
   "execution_count": 16,
   "id": "728e12f4",
   "metadata": {},
   "outputs": [
    {
     "name": "stdout",
     "output_type": "stream",
     "text": [
      "25\n"
     ]
    }
   ],
   "source": [
    "head.print_tree()"
   ]
  },
  {
   "cell_type": "code",
   "execution_count": 17,
   "id": "dbcc997a",
   "metadata": {},
   "outputs": [
    {
     "name": "stdout",
     "output_type": "stream",
     "text": [
      "2\n",
      "25\n"
     ]
    }
   ],
   "source": [
    "insert(head,B)\n",
    "head.print_tree()"
   ]
  },
  {
   "cell_type": "code",
   "execution_count": 18,
   "id": "31bafd45",
   "metadata": {},
   "outputs": [
    {
     "name": "stdout",
     "output_type": "stream",
     "text": [
      "2\n",
      "25\n",
      "33\n"
     ]
    }
   ],
   "source": [
    "insert(head,C)\n",
    "head.print_tree()"
   ]
  },
  {
   "cell_type": "code",
   "execution_count": 19,
   "id": "000eb54f",
   "metadata": {},
   "outputs": [
    {
     "name": "stdout",
     "output_type": "stream",
     "text": [
      "2\n",
      "23\n",
      "25\n",
      "33\n",
      "45\n"
     ]
    }
   ],
   "source": [
    "insert(head,I)\n",
    "insert(head,A)\n",
    "head.print_tree()"
   ]
  },
  {
   "cell_type": "code",
   "execution_count": 20,
   "id": "b0b5e51d",
   "metadata": {},
   "outputs": [
    {
     "name": "stdout",
     "output_type": "stream",
     "text": [
      "2\n",
      "23\n",
      "25\n",
      "33\n",
      "45\n"
     ]
    }
   ],
   "source": [
    "head.print_tree()"
   ]
  },
  {
   "cell_type": "code",
   "execution_count": 21,
   "id": "9c45bd7e",
   "metadata": {},
   "outputs": [
    {
     "data": {
      "text/plain": [
       "<__main__.Node at 0x7f0b7dfe11d0>"
      ]
     },
     "execution_count": 21,
     "metadata": {},
     "output_type": "execute_result"
    }
   ],
   "source": [
    "insert(head,G)\n",
    "insert(head,F)\n",
    "insert(head,D)\n",
    "insert(head,H)"
   ]
  },
  {
   "cell_type": "code",
   "execution_count": 22,
   "id": "d1f08c08",
   "metadata": {},
   "outputs": [
    {
     "name": "stdout",
     "output_type": "stream",
     "text": [
      "2\n",
      "23\n",
      "25\n",
      "33\n",
      "45\n",
      "54\n",
      "68\n",
      "72\n",
      "81\n"
     ]
    }
   ],
   "source": [
    "head.print_tree()"
   ]
  },
  {
   "cell_type": "code",
   "execution_count": 23,
   "id": "f415f866",
   "metadata": {},
   "outputs": [],
   "source": [
    "def lookup(head,data):\n",
    "    if head == None:\n",
    "        return \"value not found\"\n",
    "    if data == head.get_data():\n",
    "        return head\n",
    "    if data <= head.get_data():\n",
    "        return lookup(head.get_left_child(),data)\n",
    "    else:\n",
    "        return lookup(head.get_right_child(),data)\n",
    "def print_function(node):\n",
    "    if node == None:\n",
    "        print(\"no data\")\n",
    "    return node.get_data()"
   ]
  },
  {
   "cell_type": "code",
   "execution_count": 24,
   "id": "4cd5fee3",
   "metadata": {},
   "outputs": [
    {
     "data": {
      "text/plain": [
       "'value not found'"
      ]
     },
     "execution_count": 24,
     "metadata": {},
     "output_type": "execute_result"
    }
   ],
   "source": [
    "lookup(head,63)"
   ]
  },
  {
   "cell_type": "code",
   "execution_count": 25,
   "id": "2d9c60e2",
   "metadata": {},
   "outputs": [],
   "source": [
    "def min_value(head):\n",
    "    current = head\n",
    "    while current.get_left_child() != None:\n",
    "        current = current.get_left_child()\n",
    "    return current.get_data()\n",
    "        "
   ]
  },
  {
   "cell_type": "code",
   "execution_count": 26,
   "id": "1f410a1b",
   "metadata": {},
   "outputs": [
    {
     "data": {
      "text/plain": [
       "2"
      ]
     },
     "execution_count": 26,
     "metadata": {},
     "output_type": "execute_result"
    }
   ],
   "source": [
    "min_value(head)"
   ]
  },
  {
   "cell_type": "code",
   "execution_count": 27,
   "id": "9e0574ad",
   "metadata": {},
   "outputs": [],
   "source": [
    "def max_value(head):\n",
    "    current= head\n",
    "    while current.get_right_child() != None:\n",
    "        current = current.get_right_child()\n",
    "    return current.get_data()"
   ]
  },
  {
   "cell_type": "code",
   "execution_count": 28,
   "id": "d8bbfd28",
   "metadata": {},
   "outputs": [
    {
     "data": {
      "text/plain": [
       "81"
      ]
     },
     "execution_count": 28,
     "metadata": {},
     "output_type": "execute_result"
    }
   ],
   "source": [
    "max_value(head)"
   ]
  },
  {
   "cell_type": "code",
   "execution_count": 29,
   "id": "6acf8af0",
   "metadata": {},
   "outputs": [],
   "source": [
    "def breadth_first(node):\n",
    "    if node is None:\n",
    "        return \"No root found\"\n",
    "    output = []\n",
    "    queue = []\n",
    "    queue.append(node)\n",
    "    \n",
    "    while len(queue) > 0:\n",
    "        element = queue.pop(0)\n",
    "        output.append(element.get_data())\n",
    "        \n",
    "        if element.get_left_child() != None:\n",
    "            queue.append(element.get_left_child())\n",
    "            \n",
    "        if element.get_right_child() != None:\n",
    "            queue.append(element.get_right_child())\n",
    "    return output "
   ]
  },
  {
   "cell_type": "code",
   "execution_count": 30,
   "id": "037f4190",
   "metadata": {},
   "outputs": [
    {
     "data": {
      "text/plain": [
       "[25, 2, 33, 23, 45, 72, 68, 81, 54]"
      ]
     },
     "execution_count": 30,
     "metadata": {},
     "output_type": "execute_result"
    }
   ],
   "source": [
    "breadth_first(E)"
   ]
  },
  {
   "cell_type": "code",
   "execution_count": 39,
   "id": "f5ee81fc",
   "metadata": {},
   "outputs": [],
   "source": [
    "def pre_order(node):\n",
    "    \n",
    "    path = []\n",
    "    \n",
    "    if node:\n",
    "        path.append(node.get_data())\n",
    "        \n",
    "        path = path + pre_order(node.get_left_child())\n",
    "        \n",
    "        path = path + pre_order(node.get_right_child())\n",
    "    return path"
   ]
  },
  {
   "cell_type": "code",
   "execution_count": 40,
   "id": "f2a8c8e2",
   "metadata": {},
   "outputs": [
    {
     "data": {
      "text/plain": [
       "[25, 2, 23, 33, 45, 72, 68, 54, 81]"
      ]
     },
     "execution_count": 40,
     "metadata": {},
     "output_type": "execute_result"
    }
   ],
   "source": [
    "pre_order(E)"
   ]
  },
  {
   "cell_type": "code",
   "execution_count": 49,
   "id": "8624fee4",
   "metadata": {},
   "outputs": [],
   "source": [
    "def in_order(node):\n",
    "    \n",
    "    path = []\n",
    "    \n",
    "    if node:\n",
    "        \n",
    "        path = path + in_order(node.get_left_child())\n",
    "        \n",
    "        path.append(node.get_data())\n",
    "        \n",
    "        path = path + in_order(node.get_right_child())\n",
    "    return path"
   ]
  },
  {
   "cell_type": "code",
   "execution_count": null,
   "id": "9a9f7ce6",
   "metadata": {},
   "outputs": [],
   "source": []
  },
  {
   "cell_type": "code",
   "execution_count": 50,
   "id": "3cc35893",
   "metadata": {},
   "outputs": [
    {
     "data": {
      "text/plain": [
       "[2, 23, 25, 33, 45, 54, 68, 72, 81]"
      ]
     },
     "execution_count": 50,
     "metadata": {},
     "output_type": "execute_result"
    }
   ],
   "source": [
    "in_order(E)"
   ]
  },
  {
   "cell_type": "code",
   "execution_count": 47,
   "id": "c46f3493",
   "metadata": {},
   "outputs": [],
   "source": [
    "def post_order(node):\n",
    "    \n",
    "    path = []\n",
    "    \n",
    "    if node:\n",
    "        \n",
    "        path = path + post_order(node.get_left_child())\n",
    "        path = path + post_order(node.get_right_child())\n",
    "        \n",
    "        path.append(node.get_data())\n",
    "        \n",
    "        \n",
    "    return path"
   ]
  },
  {
   "cell_type": "code",
   "execution_count": 48,
   "id": "a879e9ce",
   "metadata": {},
   "outputs": [
    {
     "data": {
      "text/plain": [
       "[23, 2, 54, 68, 81, 72, 45, 33, 25]"
      ]
     },
     "execution_count": 48,
     "metadata": {},
     "output_type": "execute_result"
    }
   ],
   "source": [
    "post_order(E)"
   ]
  },
  {
   "cell_type": "code",
   "execution_count": null,
   "id": "6d18decf",
   "metadata": {},
   "outputs": [],
   "source": []
  },
  {
   "cell_type": "code",
   "execution_count": null,
   "id": "d84d82af",
   "metadata": {},
   "outputs": [],
   "source": []
  },
  {
   "cell_type": "markdown",
   "id": "7ce60da6",
   "metadata": {},
   "source": [
    "# Graph"
   ]
  },
  {
   "cell_type": "code",
   "execution_count": 51,
   "id": "d888ece2",
   "metadata": {},
   "outputs": [],
   "source": [
    "import abc\n",
    "\n",
    "import numpy as np"
   ]
  },
  {
   "cell_type": "code",
   "execution_count": null,
   "id": "538b65bf",
   "metadata": {},
   "outputs": [],
   "source": []
  },
  {
   "cell_type": "code",
   "execution_count": null,
   "id": "2b712a6e",
   "metadata": {},
   "outputs": [],
   "source": []
  },
  {
   "cell_type": "code",
   "execution_count": null,
   "id": "49d2735c",
   "metadata": {},
   "outputs": [],
   "source": []
  },
  {
   "cell_type": "code",
   "execution_count": null,
   "id": "1ebe60c7",
   "metadata": {},
   "outputs": [],
   "source": []
  },
  {
   "cell_type": "code",
   "execution_count": null,
   "id": "e7b018a3",
   "metadata": {},
   "outputs": [],
   "source": []
  },
  {
   "cell_type": "code",
   "execution_count": null,
   "id": "e5f5be5a",
   "metadata": {},
   "outputs": [],
   "source": []
  },
  {
   "cell_type": "code",
   "execution_count": null,
   "id": "4ef3cb00",
   "metadata": {},
   "outputs": [],
   "source": []
  },
  {
   "cell_type": "code",
   "execution_count": null,
   "id": "7a138c0a",
   "metadata": {},
   "outputs": [],
   "source": []
  }
 ],
 "metadata": {
  "kernelspec": {
   "display_name": "Python 3 (ipykernel)",
   "language": "python",
   "name": "python3"
  },
  "language_info": {
   "codemirror_mode": {
    "name": "ipython",
    "version": 3
   },
   "file_extension": ".py",
   "mimetype": "text/x-python",
   "name": "python",
   "nbconvert_exporter": "python",
   "pygments_lexer": "ipython3",
   "version": "3.11.5"
  }
 },
 "nbformat": 4,
 "nbformat_minor": 5
}
